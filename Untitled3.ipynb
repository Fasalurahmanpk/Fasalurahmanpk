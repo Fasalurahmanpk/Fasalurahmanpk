{
  "nbformat": 4,
  "nbformat_minor": 0,
  "metadata": {
    "colab": {
      "provenance": [],
      "authorship_tag": "ABX9TyOpXstQvDCDGChSbRa1ZoFa",
      "include_colab_link": true
    },
    "kernelspec": {
      "name": "python3",
      "display_name": "Python 3"
    },
    "language_info": {
      "name": "python"
    }
  },
  "cells": [
    {
      "cell_type": "markdown",
      "metadata": {
        "id": "view-in-github",
        "colab_type": "text"
      },
      "source": [
        "<a href=\"https://colab.research.google.com/github/Fasalurahmanpk/Fasalurahmanpk/blob/main/Untitled3.ipynb\" target=\"_parent\"><img src=\"https://colab.research.google.com/assets/colab-badge.svg\" alt=\"Open In Colab\"/></a>"
      ]
    },
    {
      "cell_type": "code",
      "source": [
        "x=[2,3,4,5,6,7]\n",
        "y=[2,3,4,5,6,7]"
      ],
      "metadata": {
        "id": "GH5N45HKbFCw"
      },
      "execution_count": 13,
      "outputs": []
    },
    {
      "cell_type": "code",
      "source": [
        "a0=0\n",
        "a1=0\n",
        "alpha=0.0001 #learning rate\n",
        "epochs=1000 #number of iteration\n",
        "m=len(x) #no. data points"
      ],
      "metadata": {
        "id": "_6pSFSlgbote"
      },
      "execution_count": 14,
      "outputs": []
    },
    {
      "cell_type": "code",
      "source": [
        "#gradient descent loop\n",
        "for epoch in range(epochs):\n",
        "  y_pred=[a0+a1*x[i] for i in range(m)] #compute predictions\n",
        "  #computing gradients(partial derivations)\n",
        "  da0=sum(y_pred[i]-y[i] for i in range(m))/m\n",
        "  da1=sum(y_pred[i]-y[i]*x[i] for i in range(m))/m\n",
        "  #update parameters\n",
        "  a0-=alpha*da0\n",
        "  a1-=alpha*da1\n",
        "  #print updates in every 100 iteration\n",
        "  if epoch % 100==0:\n",
        "    mse=sum((y_pred[i]-y[i]) ** 2 for i in range(m))/m\n",
        "    print(f\"Epoch {epoch}:a0={a0:.4f}, a1={a1:.4f}, MSE={mse:.4f}\")"
      ],
      "metadata": {
        "colab": {
          "base_uri": "https://localhost:8080/"
        },
        "id": "_1JcRgi5cqoW",
        "outputId": "4cfcd4f4-13fc-408c-94f0-c20a4319fc6b"
      },
      "execution_count": 15,
      "outputs": [
        {
          "output_type": "stream",
          "name": "stdout",
          "text": [
            "Epoch 0:a0=0.0005, a1=0.0023, MSE=23.1667\n",
            "Epoch 100:a0=0.0401, a1=0.2286, MSE=13.5901\n",
            "Epoch 200:a0=0.0694, a1=0.4446, MSE=6.8594\n",
            "Epoch 300:a0=0.0889, a1=0.6508, MSE=2.5849\n",
            "Epoch 400:a0=0.0993, a1=0.8478, MSE=0.4225\n",
            "Epoch 500:a0=0.1009, a1=1.0361, MSE=0.0685\n",
            "Epoch 600:a0=0.0942, a1=1.2161, MSE=1.2554\n",
            "Epoch 700:a0=0.0798, a1=1.3883, MSE=3.7476\n",
            "Epoch 800:a0=0.0579, a1=1.5531, MSE=7.3383\n",
            "Epoch 900:a0=0.0290, a1=1.7109, MSE=11.8456\n"
          ]
        }
      ]
    },
    {
      "cell_type": "code",
      "source": [],
      "metadata": {
        "id": "w-AnttAwk8bv"
      },
      "execution_count": null,
      "outputs": []
    }
  ]
}